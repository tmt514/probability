{
 "cells": [
  {
   "cell_type": "code",
   "execution_count": 1,
   "id": "6bad29b8",
   "metadata": {},
   "outputs": [],
   "source": [
    "import random\n",
    "from matplotlib import pyplot as plt\n",
    "import numpy as np\n",
    "plt.style.use(\"seaborn-v0_8\") # beautiful!\n",
    "\n",
    "\n",
    "# 定義三種策略：總是不換；總是換門；總是丟個銅板決定要不要換。\n",
    "from enum import Enum\n",
    "Strategy = Enum(\"Strategy\", [\"ALWAYS_KEEP\", \"ALWAYS_SWAP\", \"RANDOM_CHOICE\"])"
   ]
  },
  {
   "cell_type": "code",
   "execution_count": 2,
   "id": "ba9bdb32",
   "metadata": {},
   "outputs": [],
   "source": [
    "def monty_hall(strategy):\n",
    "    # 先定義門後面有啥。\n",
    "    behind_doors = [\"CAR\", \"GOAT\", \"GOAT\"]\n",
    "    \n",
    "    # 隨機選一扇門，並拿到門後面的東西。\n",
    "    grab_one = random.choice(behind_doors)\n",
    "    \n",
    "    # 主持人把另一扇門打開。\n",
    "    behind_doors.pop(behind_doors.index(grab_one))\n",
    "    behind_doors.pop(behind_doors.index(\"GOAT\"))\n",
    "    \n",
    "    # 這時候根據你的策略決定要不要換。    \n",
    "    if strategy == Strategy.ALWAYS_KEEP:\n",
    "        pass\n",
    "    \n",
    "    elif strategy == Strategy.ALWAYS_SWAP:\n",
    "        grab_one, behind_doors[0] = behind_doors[0], grab_one\n",
    "        \n",
    "    elif strategy == Strategy.RANDOM_CHOICE:\n",
    "        if random.choice([\"SWAP\", \"NOSWAP\"]) == \"SWAP\":\n",
    "            grab_one, behind_doors[0] = behind_doors[0], grab_one\n",
    "    \n",
    "    # 回傳最後拿到的。\n",
    "    return grab_one"
   ]
  },
  {
   "cell_type": "code",
   "execution_count": 3,
   "id": "ec894c88",
   "metadata": {},
   "outputs": [
    {
     "data": {
      "image/png": "[encoded data removed]",
      "text/plain": [
       "<Figure size 800x100 with 1 Axes>"
      ]
     },
     "metadata": {},
     "output_type": "display_data"
    }
   ],
   "source": [
    "# 我們將進行實驗 10000 次。\n",
    "N = 10000\n",
    "\n",
    "strategy = Strategy.RANDOM_CHOICE\n",
    "results = [monty_hall(strategy) for _ in range(N)]\n",
    "\n",
    "# 把結果繪製出來\n",
    "plt.figure(figsize=(8, 1))\n",
    "plt.barh(*np.unique(results, return_counts=True))\n",
    "ax = plt.gca()\n",
    "ax.bar_label(ax.containers[0], label_type='edge')\n",
    "ax.set_title(strategy)\n",
    "plt.show()"
   ]
  },
  {
   "cell_type": "code",
   "execution_count": null,
   "id": "16eb839c",
   "metadata": {},
   "outputs": [],
   "source": []
  }
 ],
 "metadata": {
  "kernelspec": {
   "display_name": "Python 3 (ipykernel)",
   "language": "python",
   "name": "python3"
  },
  "language_info": {
   "codemirror_mode": {
    "name": "ipython",
    "version": 3
   },
   "file_extension": ".py",
   "mimetype": "text/x-python",
   "name": "python",
   "nbconvert_exporter": "python",
   "pygments_lexer": "ipython3",
   "version": "3.11.5"
  }
 },
 "nbformat": 4,
 "nbformat_minor": 5
}
